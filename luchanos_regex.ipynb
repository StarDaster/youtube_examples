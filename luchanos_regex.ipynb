{
  "nbformat": 4,
  "nbformat_minor": 0,
  "metadata": {
    "colab": {
      "name": "luchanos_regex.ipynb",
      "provenance": [],
      "collapsed_sections": []
    },
    "kernelspec": {
      "name": "python3",
      "display_name": "Python 3"
    },
    "language_info": {
      "name": "python"
    }
  },
  "cells": [
    {
      "cell_type": "code",
      "execution_count": null,
      "metadata": {
        "id": "vmvftm8BAYV_"
      },
      "outputs": [],
      "source": [
        "import re"
      ]
    },
    {
      "cell_type": "code",
      "source": [
        "# найдем идентификаторы пользователей в тексте\n",
        "msg = \"В розыгрыше победили: 1234563, id4653, id461, id\""
      ],
      "metadata": {
        "id": "g3ifgJqdAows"
      },
      "execution_count": null,
      "outputs": []
    },
    {
      "cell_type": "code",
      "source": [
        "re.findall(r\"id\\d+\", msg)\n",
        "# ['id1234563', 'id4653', 'id461']\n",
        "# ['id4653', 'id461'] - если убрали id у первого выигравшего"
      ],
      "metadata": {
        "colab": {
          "base_uri": "https://localhost:8080/"
        },
        "id": "xSid3yYFA24T",
        "outputId": "9f92bc85-cc1c-44d9-a62c-0f25547b1eb4"
      },
      "execution_count": null,
      "outputs": [
        {
          "output_type": "execute_result",
          "data": {
            "text/plain": [
              "['id4653', 'id461']"
            ]
          },
          "metadata": {},
          "execution_count": 7
        }
      ]
    },
    {
      "cell_type": "code",
      "source": [
        "# найдём хэштеги в твитте\n",
        "tweet = \"когда #эпидемия, то обязательно #оставайсядома\""
      ],
      "metadata": {
        "id": "ha8COxknA-PI"
      },
      "execution_count": null,
      "outputs": []
    },
    {
      "cell_type": "code",
      "source": [
        "re.findall(r\"#\\w+\", tweet)\n",
        "# ['#эпидемия', '#оставайсядома']"
      ],
      "metadata": {
        "colab": {
          "base_uri": "https://localhost:8080/"
        },
        "id": "KDUXOk5FBfUS",
        "outputId": "e3aa34bd-c675-4e07-c068-f8f0b1b42671"
      },
      "execution_count": null,
      "outputs": [
        {
          "output_type": "execute_result",
          "data": {
            "text/plain": [
              "['#эпидемия', '#оставайсядома']"
            ]
          },
          "metadata": {},
          "execution_count": 9
        }
      ]
    },
    {
      "cell_type": "code",
      "source": [
        "# Посмотрим внимательнее, как работают quantifiers\n",
        "text = \"\"\"Что такое регулярные выражения и как их использовать?\n",
        "Говоря простым языком, регулярное выражение - это последовательность символов, \n",
        "используемая для поиска и замены текста в строке или файле. Их поддерживает множество\n",
        "языков програмирования: Python, Perl, R и так далее. Так что изучение регулярных \n",
        "выражений рано или поздно пригодится 0.\"\"\""
      ],
      "metadata": {
        "id": "csjp3Bc8DmF4"
      },
      "execution_count": null,
      "outputs": []
    },
    {
      "cell_type": "code",
      "source": [
        "re.findall(r\"\\w+\", text)"
      ],
      "metadata": {
        "id": "rfNwbx6JED57",
        "colab": {
          "base_uri": "https://localhost:8080/"
        },
        "outputId": "f8042dac-d173-41b9-c830-f1583b5b686e"
      },
      "execution_count": null,
      "outputs": [
        {
          "output_type": "execute_result",
          "data": {
            "text/plain": [
              "['Что',\n",
              " 'такое',\n",
              " 'регулярные',\n",
              " 'выражения',\n",
              " 'и',\n",
              " 'как',\n",
              " 'их',\n",
              " 'использовать',\n",
              " 'Говоря',\n",
              " 'простым',\n",
              " 'языком',\n",
              " 'регулярное',\n",
              " 'выражение',\n",
              " 'это',\n",
              " 'последовательность',\n",
              " 'символов',\n",
              " 'используемая',\n",
              " 'для',\n",
              " 'поиска',\n",
              " 'и',\n",
              " 'замены',\n",
              " 'текста',\n",
              " 'в',\n",
              " 'строке',\n",
              " 'или',\n",
              " 'файле',\n",
              " 'Их',\n",
              " 'поддерживает',\n",
              " 'множество',\n",
              " 'языков',\n",
              " 'програмирования',\n",
              " 'Python',\n",
              " 'Perl',\n",
              " 'R',\n",
              " 'и',\n",
              " 'так',\n",
              " 'далее',\n",
              " 'Так',\n",
              " 'что',\n",
              " 'изучение',\n",
              " 'регулярных',\n",
              " 'выражений',\n",
              " 'рано',\n",
              " 'или',\n",
              " 'поздно',\n",
              " 'пригодится',\n",
              " '0']"
            ]
          },
          "metadata": {},
          "execution_count": 13
        }
      ]
    },
    {
      "cell_type": "code",
      "source": [
        "re.findall(r\"\\w*\", text)\n",
        "# ['Что',\n",
        "#  '',\n",
        "#  'такое',\n",
        "#  '',\n",
        "#  'регулярные',\n",
        "#  '',\n",
        "#  'выражения',\n",
        "#  '',\n",
        "#  'и',\n",
        "#  '',"
      ],
      "metadata": {
        "id": "a9lOyIjvESFM",
        "colab": {
          "base_uri": "https://localhost:8080/"
        },
        "outputId": "5ea7ed5c-1a87-4f7c-beff-29d7fd230141"
      },
      "execution_count": null,
      "outputs": [
        {
          "output_type": "execute_result",
          "data": {
            "text/plain": [
              "['Что',\n",
              " '',\n",
              " 'такое',\n",
              " '',\n",
              " 'регулярные',\n",
              " '',\n",
              " 'выражения',\n",
              " '',\n",
              " 'и',\n",
              " '',\n",
              " 'как',\n",
              " '',\n",
              " 'их',\n",
              " '',\n",
              " 'использовать',\n",
              " '',\n",
              " '',\n",
              " 'Говоря',\n",
              " '',\n",
              " 'простым',\n",
              " '',\n",
              " 'языком',\n",
              " '',\n",
              " '',\n",
              " 'регулярное',\n",
              " '',\n",
              " 'выражение',\n",
              " '',\n",
              " '',\n",
              " '',\n",
              " 'это',\n",
              " '',\n",
              " 'последовательность',\n",
              " '',\n",
              " 'символов',\n",
              " '',\n",
              " '',\n",
              " '',\n",
              " 'используемая',\n",
              " '',\n",
              " 'для',\n",
              " '',\n",
              " 'поиска',\n",
              " '',\n",
              " 'и',\n",
              " '',\n",
              " 'замены',\n",
              " '',\n",
              " 'текста',\n",
              " '',\n",
              " 'в',\n",
              " '',\n",
              " 'строке',\n",
              " '',\n",
              " 'или',\n",
              " '',\n",
              " 'файле',\n",
              " '',\n",
              " '',\n",
              " 'Их',\n",
              " '',\n",
              " 'поддерживает',\n",
              " '',\n",
              " 'множество',\n",
              " '',\n",
              " 'языков',\n",
              " '',\n",
              " 'програмирования',\n",
              " '',\n",
              " '',\n",
              " 'Python',\n",
              " '',\n",
              " '',\n",
              " 'Perl',\n",
              " '',\n",
              " '',\n",
              " 'R',\n",
              " '',\n",
              " 'и',\n",
              " '',\n",
              " 'так',\n",
              " '',\n",
              " 'далее',\n",
              " '',\n",
              " '',\n",
              " 'Так',\n",
              " '',\n",
              " 'что',\n",
              " '',\n",
              " 'изучение',\n",
              " '',\n",
              " 'регулярных',\n",
              " '',\n",
              " '',\n",
              " 'выражений',\n",
              " '',\n",
              " 'рано',\n",
              " '',\n",
              " 'или',\n",
              " '',\n",
              " 'поздно',\n",
              " '',\n",
              " 'пригодится',\n",
              " '',\n",
              " '']"
            ]
          },
          "metadata": {},
          "execution_count": 13
        }
      ]
    },
    {
      "cell_type": "code",
      "source": [
        "re.findall(r\"\\w?\", text)\n",
        "# ['Ч',\n",
        "#  'т',\n",
        "#  'о',\n",
        "#  '',\n",
        "#  'т',\n",
        "#  'а',\n",
        "#  'к',\n",
        "#  'о',\n",
        "#  'е',\n",
        "#  '',\n",
        "#  'р',\n",
        "#  'е',\n",
        "#  'г',\n",
        "#  'у',"
      ],
      "metadata": {
        "id": "FABwhf6rEb_S",
        "colab": {
          "base_uri": "https://localhost:8080/",
          "height": 133
        },
        "outputId": "6ef1c45b-a0c0-46b0-aee4-ca39446f90d8"
      },
      "execution_count": null,
      "outputs": [
        {
          "output_type": "error",
          "ename": "SyntaxError",
          "evalue": "ignored",
          "traceback": [
            "\u001b[0;36m  File \u001b[0;32m\"<ipython-input-15-7c0a114ef6b5>\"\u001b[0;36m, line \u001b[0;32m15\u001b[0m\n\u001b[0;31m    'у',\u001b[0m\n\u001b[0m        ^\u001b[0m\n\u001b[0;31mSyntaxError\u001b[0m\u001b[0;31m:\u001b[0m unexpected EOF while parsing\n"
          ]
        }
      ]
    },
    {
      "cell_type": "code",
      "source": [
        "# необходимо из строки с условными датами вытащить их\n",
        "registration = \"Date of start: 4-12. Date of registration: 20-11\""
      ],
      "metadata": {
        "id": "Ic7BDPyBExan"
      },
      "execution_count": null,
      "outputs": []
    },
    {
      "cell_type": "code",
      "source": [
        "re.findall(r\"\\d{1,2}-\\d{1,2}\", registration)\n",
        "# ['4-12', '20-11']\n",
        "# ['4-1200000', '20-110000']"
      ],
      "metadata": {
        "colab": {
          "base_uri": "https://localhost:8080/"
        },
        "id": "1AVx37QuFDSF",
        "outputId": "5ea3fcc1-eb4f-4092-e19e-ebde59b3ca55"
      },
      "execution_count": null,
      "outputs": [
        {
          "output_type": "execute_result",
          "data": {
            "text/plain": [
              "['4-12', '20-11']"
            ]
          },
          "metadata": {},
          "execution_count": 17
        }
      ]
    },
    {
      "cell_type": "code",
      "source": [
        "# вытащим номер телефона из текста\n",
        "phone_numbers = \"Мария: 8-943-342-23-32 Александр: 8-323-232-23-23\""
      ],
      "metadata": {
        "id": "8dzMThfoFXsK"
      },
      "execution_count": null,
      "outputs": []
    },
    {
      "cell_type": "code",
      "source": [
        "phone_pattern = r\"8-\\d{3}-\\d{3}-\\d{2}-\\d{2}\"\n",
        "re.findall(phone_pattern, phone_numbers)\n",
        "# ['8-943-342-23-32', '8-323-232-23-23']"
      ],
      "metadata": {
        "colab": {
          "base_uri": "https://localhost:8080/"
        },
        "id": "zv-E2GMxFjOu",
        "outputId": "da0aefc3-cea8-41d9-e20c-f4ead32755aa"
      },
      "execution_count": null,
      "outputs": [
        {
          "output_type": "execute_result",
          "data": {
            "text/plain": [
              "['8-943-342-23-32', '8-323-232-23-23']"
            ]
          },
          "metadata": {},
          "execution_count": 20
        }
      ]
    },
    {
      "cell_type": "code",
      "source": [
        "# свалидируем дату\n",
        "date = \"some text 1st september 2019 07:25 some text 1st september 2019 07:25\""
      ],
      "metadata": {
        "id": "KXeuQM6bGLpq"
      },
      "execution_count": null,
      "outputs": []
    },
    {
      "cell_type": "code",
      "source": [
        "# search ищет по всей строке, а match только в начале\n",
        "m_o = re.search(r\"\\d{1,2}\\w{2}\\s\\w+\\s\\d{4}\\s\\d{1,2}:\\d{1,2}\", date)\n",
        "# ['1st september 2019']\n",
        "# <re.Match object; span=(10, 34), match='1st september 2019 07:25'>"
      ],
      "metadata": {
        "colab": {
          "base_uri": "https://localhost:8080/",
          "height": 240
        },
        "id": "4kXUXb7gGdG0",
        "outputId": "c8bd6f89-5656-4844-94c7-8748e69cb2ca"
      },
      "execution_count": null,
      "outputs": [
        {
          "output_type": "error",
          "ename": "AttributeError",
          "evalue": "ignored",
          "traceback": [
            "\u001b[0;31m---------------------------------------------------------------------------\u001b[0m",
            "\u001b[0;31mAttributeError\u001b[0m                            Traceback (most recent call last)",
            "\u001b[0;32m<ipython-input-29-0da71002c207>\u001b[0m in \u001b[0;36m<module>\u001b[0;34m\u001b[0m\n\u001b[1;32m      1\u001b[0m \u001b[0;31m# search ищет по всей строке, а match только в начале\u001b[0m\u001b[0;34m\u001b[0m\u001b[0;34m\u001b[0m\u001b[0;34m\u001b[0m\u001b[0m\n\u001b[1;32m      2\u001b[0m \u001b[0mm_o\u001b[0m \u001b[0;34m=\u001b[0m \u001b[0mre\u001b[0m\u001b[0;34m.\u001b[0m\u001b[0msearch\u001b[0m\u001b[0;34m(\u001b[0m\u001b[0;34mr\"\\d{1,2}\\w{2}\\s\\w+\\s\\d{4}\\s\\d{1,2}:\\d{1,2}\"\u001b[0m\u001b[0;34m,\u001b[0m \u001b[0mdate\u001b[0m\u001b[0;34m)\u001b[0m\u001b[0;34m\u001b[0m\u001b[0;34m\u001b[0m\u001b[0m\n\u001b[0;32m----> 3\u001b[0;31m \u001b[0mm_o\u001b[0m\u001b[0;34m.\u001b[0m\u001b[0mmatch\u001b[0m\u001b[0;34m\u001b[0m\u001b[0;34m\u001b[0m\u001b[0m\n\u001b[0m\u001b[1;32m      4\u001b[0m \u001b[0;31m# ['1st september 2019']\u001b[0m\u001b[0;34m\u001b[0m\u001b[0;34m\u001b[0m\u001b[0;34m\u001b[0m\u001b[0m\n\u001b[1;32m      5\u001b[0m \u001b[0;31m# <re.Match object; span=(10, 34), match='1st september 2019 07:25'>\u001b[0m\u001b[0;34m\u001b[0m\u001b[0;34m\u001b[0m\u001b[0;34m\u001b[0m\u001b[0m\n",
            "\u001b[0;31mAttributeError\u001b[0m: 're.Match' object has no attribute 'match'"
          ]
        }
      ]
    },
    {
      "cell_type": "code",
      "source": [
        "# search ищет по всей строке, а match только в начале\n",
        "text = \"\"\"Что такое регулярные выражения и как их использовать?\n",
        "Говоря простым языком, регулярное выражение - это последовательность символов, \n",
        "используемая для поиска и замены текста в строке или файле. Их поддерживает множество\n",
        "языков програмирования: Python, Perl, R и так далее. Так что изучение регулярных \n",
        "выражений рано или поздно пригодится.\"\"\"\n",
        "\n",
        "result = re.match(r\"P\\w+\", text)\n",
        "print(\"Нашел\" if result else \"Не нашёл\")\n",
        "# Не нашёл"
      ],
      "metadata": {
        "colab": {
          "base_uri": "https://localhost:8080/"
        },
        "id": "TcM_8blMGmq0",
        "outputId": "f6866f74-2473-496d-8fb2-5892b5fe83fe"
      },
      "execution_count": null,
      "outputs": [
        {
          "output_type": "stream",
          "name": "stdout",
          "text": [
            "Не нашёл\n"
          ]
        }
      ]
    },
    {
      "cell_type": "code",
      "source": [
        "re.match(r\"\\w\", text)\n",
        "# <re.Match object; span=(0, 3), match='Что'>"
      ],
      "metadata": {
        "colab": {
          "base_uri": "https://localhost:8080/"
        },
        "id": "2cvEaqj4JVjq",
        "outputId": "59af1af2-2408-4769-96ca-59188bf4f132"
      },
      "execution_count": null,
      "outputs": [
        {
          "output_type": "execute_result",
          "data": {
            "text/plain": [
              "<re.Match object; span=(0, 1), match='Ч'>"
            ]
          },
          "metadata": {},
          "execution_count": 35
        }
      ]
    },
    {
      "cell_type": "code",
      "source": [
        "res = re.search(r\"P\\w+\", text)\n",
        "print(res.group())\n",
        "print(res.end())\n",
        "print(res.start())\n",
        "# Python\n",
        "# 250\n",
        "# <re.Match object; span=(244, 250), match='Python'>"
      ],
      "metadata": {
        "colab": {
          "base_uri": "https://localhost:8080/"
        },
        "id": "SYmuRZ3RJasT",
        "outputId": "699f59b2-1ef3-4272-eb4f-d957f8a1bda4"
      },
      "execution_count": null,
      "outputs": [
        {
          "output_type": "stream",
          "name": "stdout",
          "text": [
            "Python\n",
            "250\n",
            "244\n"
          ]
        }
      ]
    },
    {
      "cell_type": "code",
      "source": [
        "# экранирование\n",
        "text = \"Эта строка написана 11.11.2021, а могла бы и 01/01/2001\""
      ],
      "metadata": {
        "id": "RCptfIwSKRNj"
      },
      "execution_count": null,
      "outputs": []
    },
    {
      "cell_type": "code",
      "source": [
        "re.findall(r\"\\d\\d\\.\\d\\d\\.\\d{4}\", text)\n",
        "# ['11.11.2021', '01/01/2001']"
      ],
      "metadata": {
        "colab": {
          "base_uri": "https://localhost:8080/"
        },
        "id": "ov66zu_FKcGJ",
        "outputId": "284c0304-a0af-4bcb-bb5c-4197b9a7460f"
      },
      "execution_count": null,
      "outputs": [
        {
          "output_type": "execute_result",
          "data": {
            "text/plain": [
              "['11.11.2021']"
            ]
          },
          "metadata": {},
          "execution_count": 32
        }
      ]
    },
    {
      "cell_type": "code",
      "source": [
        "# определим, находится ли домен в зоне .com\n",
        "domain = \"www.site.com\""
      ],
      "metadata": {
        "id": "SXDYqdK0KlsM"
      },
      "execution_count": null,
      "outputs": []
    },
    {
      "cell_type": "code",
      "source": [
        "re.findall(r\"www\\..+\\.com\", domain)\n",
        "# ['www.site.com']"
      ],
      "metadata": {
        "colab": {
          "base_uri": "https://localhost:8080/"
        },
        "id": "XNvisjb2Krb4",
        "outputId": "44cc1ade-cb68-4d55-c1d9-fa54cf4e7009"
      },
      "execution_count": null,
      "outputs": [
        {
          "output_type": "execute_result",
          "data": {
            "text/plain": [
              "['www.site.com']"
            ]
          },
          "metadata": {},
          "execution_count": 34
        }
      ]
    },
    {
      "cell_type": "code",
      "source": [
        "# поищем только в начале и в конце строки\n",
        "history_comment = \"20 век был более опасным, чем 19 век\""
      ],
      "metadata": {
        "id": "kT-TH7yjK0Jt"
      },
      "execution_count": null,
      "outputs": []
    },
    {
      "cell_type": "code",
      "source": [
        "re.findall(r\"\\d{1,2}\\sвек\", history_comment)\n",
        "# ['20 век', '19 век']"
      ],
      "metadata": {
        "id": "EcJk723GK8Fx",
        "colab": {
          "base_uri": "https://localhost:8080/"
        },
        "outputId": "c9e1faae-caf7-4b12-f20b-2e9c0af8530f"
      },
      "execution_count": null,
      "outputs": [
        {
          "output_type": "execute_result",
          "data": {
            "text/plain": [
              "['20 век', '19 век']"
            ]
          },
          "metadata": {},
          "execution_count": 37
        }
      ]
    },
    {
      "cell_type": "code",
      "source": [
        "re.findall(r\"^\\d{1,2}\\sвек|\\d{1,2}\\sвек$\", history_comment)\n",
        "# ['20 век', '19 век']"
      ],
      "metadata": {
        "colab": {
          "base_uri": "https://localhost:8080/"
        },
        "id": "Pz0sWLdpLDyu",
        "outputId": "821a52c8-2789-440d-e10b-1e6444bb3139"
      },
      "execution_count": null,
      "outputs": [
        {
          "output_type": "execute_result",
          "data": {
            "text/plain": [
              "<re.Match object; span=(0, 6), match='20 век'>"
            ]
          },
          "metadata": {},
          "execution_count": 40
        }
      ]
    },
    {
      "cell_type": "code",
      "source": [
        "# ИЛИ\n",
        "market_search = \"Что лучше: ноутбук или компьютер?\"\n",
        "re.findall(\"ноутбук|компьютер|лучше\", market_search)\n",
        "# ['лучше', 'ноутбук', 'компьютер']"
      ],
      "metadata": {
        "colab": {
          "base_uri": "https://localhost:8080/"
        },
        "id": "pl6mctnGLqp6",
        "outputId": "10f49523-044e-473d-f327-93a34113b96d"
      },
      "execution_count": null,
      "outputs": [
        {
          "output_type": "execute_result",
          "data": {
            "text/plain": [
              "['лучше', 'ноутбук', 'компьютер']"
            ]
          },
          "metadata": {},
          "execution_count": 56
        }
      ]
    },
    {
      "cell_type": "code",
      "source": [
        "text = \"     Тут текст в который попали пробельные символы в начале и в конце, от которых нужно избавиться     \""
      ],
      "metadata": {
        "id": "Jdw5DRB3L2J1"
      },
      "execution_count": null,
      "outputs": []
    },
    {
      "cell_type": "code",
      "source": [
        "re.sub(r\"^\\s+|\\s+$\", \"\", text)\n",
        "# Тут текст в который попали пробельные символы в начале и в конце, от которых нужно избавиться"
      ],
      "metadata": {
        "colab": {
          "base_uri": "https://localhost:8080/",
          "height": 35
        },
        "id": "BLJeknK4L-dF",
        "outputId": "ece8ff1b-1546-4c55-951d-ab34292ed210"
      },
      "execution_count": null,
      "outputs": [
        {
          "output_type": "execute_result",
          "data": {
            "text/plain": [
              "'Тут текст в который попали пробельные символы в начале и в конце, от которых нужно избавиться'"
            ],
            "application/vnd.google.colaboratory.intrinsic+json": {
              "type": "string"
            }
          },
          "metadata": {},
          "execution_count": 43
        }
      ]
    },
    {
      "cell_type": "code",
      "source": [
        "# [] - найдем слово во всех склонениях\n",
        "text = \"\"\"Что такое регулярные выражения и как их использовать?\n",
        "Говоря простым языком, регулярное выражение - это последовательность символов, \n",
        "используемая для поиска и замены текста в строке или файле. Их поддерживает множество\n",
        "языков програмирования: Python, Perl, R и так далее. Так что изучение регулярных выражений\n",
        "рано или поздно пригодится.\"\"\"\n",
        "pattern = r\"[Рр]егулярн[а-я]{2,3}\\sвыражен[а-я]{2,3}\"\n",
        "re.findall(pattern, text)\n",
        "# ['регулярные выражения', 'регулярное выражение', 'регулярных выражений']"
      ],
      "metadata": {
        "colab": {
          "base_uri": "https://localhost:8080/"
        },
        "id": "VVFViqoxMJvd",
        "outputId": "27e54d41-26f1-4d8e-e6c0-e9f1e0664839"
      },
      "execution_count": null,
      "outputs": [
        {
          "output_type": "execute_result",
          "data": {
            "text/plain": [
              "['регулярные выражения', 'регулярное выражение', 'регулярных выражений']"
            ]
          },
          "metadata": {},
          "execution_count": 44
        }
      ]
    },
    {
      "cell_type": "code",
      "source": [
        "r\"[Рр]егулярн[а-я]{2,3}\\sвыражен[а-я]{2,3}\" + r\"123\"\n",
        "# [Рр]егулярн[а-я]{2,3}\\sвыражен[а-я]{2,3}123"
      ],
      "metadata": {
        "colab": {
          "base_uri": "https://localhost:8080/",
          "height": 35
        },
        "id": "niilLLoS1boT",
        "outputId": "7ca7cc19-5c73-43e4-bb80-a70728332a97"
      },
      "execution_count": null,
      "outputs": [
        {
          "output_type": "execute_result",
          "data": {
            "text/plain": [
              "'[Рр]егулярн[а-я]{2,3}\\\\sвыражен[а-я]{2,3}123'"
            ],
            "application/vnd.google.colaboratory.intrinsic+json": {
              "type": "string"
            }
          },
          "metadata": {},
          "execution_count": 70
        }
      ]
    },
    {
      "cell_type": "code",
      "source": [
        "# найдем все домены, которые состоят из цифр\n",
        "websites = \"www.101.com www.google.com\""
      ],
      "metadata": {
        "id": "yfYRfk7OMavg"
      },
      "execution_count": null,
      "outputs": []
    },
    {
      "cell_type": "code",
      "source": [
        "re.findall(r\"www\\.[0-9]+\\.com\", websites)\n",
        "# ['www.101.com']"
      ],
      "metadata": {
        "colab": {
          "base_uri": "https://localhost:8080/"
        },
        "id": "3YVdMh-9NDUJ",
        "outputId": "e96940f1-3a37-420e-e4ed-4c7f843fa114"
      },
      "execution_count": null,
      "outputs": [
        {
          "output_type": "execute_result",
          "data": {
            "text/plain": [
              "['www.101.com']"
            ]
          },
          "metadata": {},
          "execution_count": 73
        }
      ]
    },
    {
      "cell_type": "code",
      "source": [
        "re.findall(r\"www\\.[^0-9]+\\.com\", websites)\n",
        "# ['www.google.com']"
      ],
      "metadata": {
        "colab": {
          "base_uri": "https://localhost:8080/"
        },
        "id": "t9E9ol8dNPVo",
        "outputId": "7fba7329-e490-4d28-c84a-742b63fd0957"
      },
      "execution_count": null,
      "outputs": [
        {
          "output_type": "execute_result",
          "data": {
            "text/plain": [
              "['www.google.com']"
            ]
          },
          "metadata": {},
          "execution_count": 59
        }
      ]
    },
    {
      "cell_type": "code",
      "source": [
        "# split\n",
        "columns = \"Столбец1, Столбец2; Столбец3,Столбец4,Столбец5\"\n",
        "re.split(r\"[,;]\\s?\", columns)\n",
        "# ['Столбец1', 'Столбец2', 'Столбец3', 'Столбец4', 'Столбец5']"
      ],
      "metadata": {
        "colab": {
          "base_uri": "https://localhost:8080/"
        },
        "id": "cjbt6ywsNV6N",
        "outputId": "1bb7e49a-1166-47f1-9dae-a813d7eaaefe"
      },
      "execution_count": null,
      "outputs": [
        {
          "output_type": "execute_result",
          "data": {
            "text/plain": [
              "['Столбец1', 'Столбец2', 'Столбец3', 'Столбец4', 'Столбец5']"
            ]
          },
          "metadata": {},
          "execution_count": 46
        }
      ]
    },
    {
      "cell_type": "code",
      "source": [
        "# произведем замену на regex\n",
        "text = \"\"\"Что такое регулярные выражения и как их использовать?\n",
        "Говоря простым языком, регулярное выражение - это последовательность символов, \n",
        "используемая для поиска и замены текста в строке или файле. Их поддерживает множество\n",
        "языков програмирования: Python, Perl, R и так далее. Так что изучение регулярных выражений\n",
        "рано или поздно пригодится.\"\"\"\n",
        "print(re.sub(r\"[Рр]егулярн[а-я]{2,3}\\sвыражен[а-я]{2,3}\", \"regex\", text))\n",
        "# Что такое regex и как их использовать?\n",
        "# Говоря простым языком, regex - это последовательность символов, \n",
        "# используемая для поиска и замены текста в строке или файле. Их поддерживает множество\n",
        "# языков програмирования: Python, Perl, R и так далее. Так что изучение regex\n",
        "# рано или поздно пригодится."
      ],
      "metadata": {
        "colab": {
          "base_uri": "https://localhost:8080/"
        },
        "id": "jFN-jdaHN8zP",
        "outputId": "8db36372-03ad-4b61-a221-282a6379d2d1"
      },
      "execution_count": null,
      "outputs": [
        {
          "output_type": "stream",
          "name": "stdout",
          "text": [
            "Что такое regex и как их использовать?\n",
            "Говоря простым языком, regex - это последовательность символов, \n",
            "используемая для поиска и замены текста в строке или файле. Их поддерживает множество\n",
            "языков програмирования: Python, Perl, R и так далее. Так что изучение regex\n",
            "рано или поздно пригодится.\n"
          ]
        }
      ]
    },
    {
      "cell_type": "code",
      "source": [
        "# Удалим все знаки пунктуации из текста через sub\n",
        "text = \"\"\"Что такое регулярные выражения и как их использовать?\n",
        "Говоря простым языком, регулярное выражение - это последовательность символов, \n",
        "используемая для поиска и замены текста в строке или файле. Их поддерживает множество\n",
        "языков програмирования: Python, Perl, R и так далее. Так что изучение регулярных выражений\n",
        "рано или поздно пригодится.\"\"\"\n",
        "print(re.sub(r\"\\W+\", \" \", text))\n",
        "# Что такое регулярные выражения и как их использовать \n",
        "# Говоря простым языком регулярное выражение это последовательность символов "
      ],
      "metadata": {
        "colab": {
          "base_uri": "https://localhost:8080/"
        },
        "id": "LkdOmh7oOLrU",
        "outputId": "7a2ea38b-b1cb-46b4-99f3-d5d75f5e11e4"
      },
      "execution_count": null,
      "outputs": [
        {
          "output_type": "stream",
          "name": "stdout",
          "text": [
            "Что такое регулярные выражения и как их использовать Говоря простым языком регулярное выражение это последовательность символов используемая для поиска и замены текста в строке или файле Их поддерживает множество языков програмирования Python Perl R и так далее Так что изучение регулярных выражений рано или поздно пригодится \n"
          ]
        }
      ]
    },
    {
      "cell_type": "code",
      "source": [
        "# переведем даты к другому формату при помощи групп\n",
        "date = \"some textt 28/07/2008 some text\"\n",
        "re.sub(r\"(\\d\\d)/(\\d\\d)/(\\d{4})\", r\"\\2.\\1.\\3\", date)\n",
        "# some textt 07.28.2008 some text"
      ],
      "metadata": {
        "colab": {
          "base_uri": "https://localhost:8080/",
          "height": 35
        },
        "id": "sqjIQccJQpUE",
        "outputId": "9ab2abd9-a6ab-4998-a340-6378b65e36f6"
      },
      "execution_count": null,
      "outputs": [
        {
          "output_type": "execute_result",
          "data": {
            "text/plain": [
              "'some textt 07.28.2008 some text'"
            ],
            "application/vnd.google.colaboratory.intrinsic+json": {
              "type": "string"
            }
          },
          "metadata": {},
          "execution_count": 47
        }
      ]
    },
    {
      "cell_type": "code",
      "source": [
        "# удалим последовательные повторы цифр\n",
        "numbers = \"444444444 555556666 77777\"\n",
        "re.sub(r\"(\\d)\\1+\", r\"\\1\", numbers)\n",
        "# 4 56 7"
      ],
      "metadata": {
        "colab": {
          "base_uri": "https://localhost:8080/",
          "height": 35
        },
        "id": "Hf03XIUgRGXa",
        "outputId": "36d68a9f-3e13-4885-e6b5-5f9583cadbbc"
      },
      "execution_count": null,
      "outputs": [
        {
          "output_type": "execute_result",
          "data": {
            "text/plain": [
              "'4 56 7'"
            ],
            "application/vnd.google.colaboratory.intrinsic+json": {
              "type": "string"
            }
          },
          "metadata": {},
          "execution_count": 77
        }
      ]
    },
    {
      "cell_type": "code",
      "source": [
        "# посчитаем количество лайков и репостов по всем сообщениям\n",
        "messages = [ \n",
        "            \" Репостов: 22 Крутой был концерт 21 августа! Лайков: 28,\",\n",
        "            \"Опять дождь! Лайков: 2\"]\n",
        "\n",
        "likes = reposts = 0\n",
        "\n",
        "for msg in messages:\n",
        "  likes_pattern = re.search(r\"Лайков:\\s(\\d+)\", msg)\n",
        "  reposts_pattern = re.search(r\"Репостов:\\s(\\d+)\", msg)\n",
        "  if likes_pattern is not None:\n",
        "    likes += int(likes_pattern.group(1))\n",
        "  if reposts_pattern is not None:\n",
        "    reposts += int(reposts_pattern.group(1))\n",
        "\n",
        "print(likes)\n",
        "print(reposts)\n",
        "# 30\n",
        "# 22"
      ],
      "metadata": {
        "colab": {
          "base_uri": "https://localhost:8080/"
        },
        "id": "gWKNHWWCRY64",
        "outputId": "e4156eff-92c7-4812-ba4c-48fbc4d2b826"
      },
      "execution_count": null,
      "outputs": [
        {
          "output_type": "stream",
          "name": "stdout",
          "text": [
            "30\n",
            "22\n"
          ]
        }
      ]
    },
    {
      "cell_type": "code",
      "source": [
        "# Флаги\n",
        "text = \"\"\"Что такое регулярные выражения и как их использовать?\n",
        "Говоря простым языком, регулярное выражение - это последовательность символов, \n",
        "используемая для поиска и замены текста в строке или файле. Их поддерживает множество\n",
        "языков програмирования: Python, Perl, R и так далее. Так что изучение регулярных выражений\n",
        "рано или поздно пригодится.\"\"\"\n",
        "print(re.findall(r\"[a-z]+\", text, flags=re.IGNORECASE))\n",
        "# ['Python', 'Perl', 'R']"
      ],
      "metadata": {
        "colab": {
          "base_uri": "https://localhost:8080/"
        },
        "id": "b3GEe2FGU3q-",
        "outputId": "9495ab1d-474d-4bff-9136-bf167106d640"
      },
      "execution_count": null,
      "outputs": [
        {
          "output_type": "stream",
          "name": "stdout",
          "text": [
            "['Python', 'Perl', 'R']\n"
          ]
        }
      ]
    },
    {
      "cell_type": "code",
      "source": [
        "# Получить только рублёвые цены\n",
        "prices = \"RUB4.44, RUB10.77, USD11.33\"\n",
        "re.findall(r\"(?<=RUB)\\d+\\.\\d{2}\", prices)\n",
        "# ['4.44', '10.77']"
      ],
      "metadata": {
        "colab": {
          "base_uri": "https://localhost:8080/"
        },
        "id": "MOOG2d3BVUh3",
        "outputId": "7cdcc186-d289-4af4-da9f-05f1346650c9"
      },
      "execution_count": null,
      "outputs": [
        {
          "output_type": "execute_result",
          "data": {
            "text/plain": [
              "['4.44', '10.77']"
            ]
          },
          "metadata": {},
          "execution_count": 85
        }
      ]
    },
    {
      "cell_type": "markdown",
      "source": [
        "youtube, telegram, vk, facebook: luchanos\n",
        "https://www.linkedin.com/in/luchanos/\n",
        "\n"
      ],
      "metadata": {
        "id": "gsMyUCUH9FYn"
      }
    }
  ]
}